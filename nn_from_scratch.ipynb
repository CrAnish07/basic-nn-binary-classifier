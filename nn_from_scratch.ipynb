{
 "cells": [
  {
   "cell_type": "code",
   "execution_count": 40,
   "id": "941b1170-88de-443c-b4bd-5031cb4f94ac",
   "metadata": {},
   "outputs": [],
   "source": [
    "import numpy as np\n",
    "import pandas as pd\n",
    "import math"
   ]
  },
  {
   "cell_type": "code",
   "execution_count": 41,
   "id": "9dc146b8-b46b-4a2f-a91a-b4b4c1fc9201",
   "metadata": {},
   "outputs": [
    {
     "data": {
      "text/html": [
       "<div>\n",
       "<style scoped>\n",
       "    .dataframe tbody tr th:only-of-type {\n",
       "        vertical-align: middle;\n",
       "    }\n",
       "\n",
       "    .dataframe tbody tr th {\n",
       "        vertical-align: top;\n",
       "    }\n",
       "\n",
       "    .dataframe thead th {\n",
       "        text-align: right;\n",
       "    }\n",
       "</style>\n",
       "<table border=\"1\" class=\"dataframe\">\n",
       "  <thead>\n",
       "    <tr style=\"text-align: right;\">\n",
       "      <th></th>\n",
       "      <th>age</th>\n",
       "      <th>affordibility</th>\n",
       "      <th>bought_insurance</th>\n",
       "    </tr>\n",
       "  </thead>\n",
       "  <tbody>\n",
       "    <tr>\n",
       "      <th>0</th>\n",
       "      <td>22</td>\n",
       "      <td>1</td>\n",
       "      <td>0</td>\n",
       "    </tr>\n",
       "    <tr>\n",
       "      <th>1</th>\n",
       "      <td>25</td>\n",
       "      <td>0</td>\n",
       "      <td>0</td>\n",
       "    </tr>\n",
       "    <tr>\n",
       "      <th>2</th>\n",
       "      <td>47</td>\n",
       "      <td>1</td>\n",
       "      <td>1</td>\n",
       "    </tr>\n",
       "    <tr>\n",
       "      <th>3</th>\n",
       "      <td>52</td>\n",
       "      <td>0</td>\n",
       "      <td>0</td>\n",
       "    </tr>\n",
       "    <tr>\n",
       "      <th>4</th>\n",
       "      <td>46</td>\n",
       "      <td>1</td>\n",
       "      <td>1</td>\n",
       "    </tr>\n",
       "  </tbody>\n",
       "</table>\n",
       "</div>"
      ],
      "text/plain": [
       "   age  affordibility  bought_insurance\n",
       "0   22              1                 0\n",
       "1   25              0                 0\n",
       "2   47              1                 1\n",
       "3   52              0                 0\n",
       "4   46              1                 1"
      ]
     },
     "execution_count": 41,
     "metadata": {},
     "output_type": "execute_result"
    }
   ],
   "source": [
    "df = pd.read_csv('insurance_data.csv')\n",
    "df.head()"
   ]
  },
  {
   "cell_type": "code",
   "execution_count": 42,
   "id": "0ac41445-9af2-44d6-8e66-820173f744a9",
   "metadata": {},
   "outputs": [],
   "source": [
    "from sklearn.model_selection import train_test_split\n",
    "X_train, X_test, y_train, y_test = train_test_split(df[['age', 'affordibility']], df.bought_insurance, test_size=0.2, random_state=25)"
   ]
  },
  {
   "cell_type": "markdown",
   "id": "e32146d4-613b-4869-8a9e-ffead25e47d3",
   "metadata": {},
   "source": [
    "## Data Scaling"
   ]
  },
  {
   "cell_type": "code",
   "execution_count": 43,
   "id": "d22a4a41-e604-499e-832b-0012961f1180",
   "metadata": {},
   "outputs": [],
   "source": [
    "X_train_scaled = X_train.copy()\n",
    "X_train_scaled['age'] = X_train_scaled['age'] / 100\n",
    "X_test_scaled = X_test.copy()\n",
    "X_test_scaled['age'] = X_test_scaled['age'] / 100"
   ]
  },
  {
   "cell_type": "markdown",
   "id": "49f094da-a188-468d-b5a4-e324fdceac09",
   "metadata": {},
   "source": [
    "## Activation Function: Sigmoid"
   ]
  },
  {
   "cell_type": "code",
   "execution_count": 44,
   "id": "29ab2791-a990-42db-946b-8976f616afcd",
   "metadata": {},
   "outputs": [],
   "source": [
    "def sigmoid(x):\n",
    "    return 1 / (1 + np.exp(-x))"
   ]
  },
  {
   "cell_type": "code",
   "execution_count": 45,
   "id": "741f429a-774c-4579-8c60-8f5e1f88ea6c",
   "metadata": {},
   "outputs": [
    {
     "data": {
      "text/plain": [
       "0.9999999847700205"
      ]
     },
     "execution_count": 45,
     "metadata": {},
     "output_type": "execute_result"
    }
   ],
   "source": [
    "sigmoid(18)"
   ]
  },
  {
   "cell_type": "markdown",
   "id": "5c567197-7140-4b9a-96e9-8a26bf9fa34f",
   "metadata": {},
   "source": [
    "## Cost Function: Binary Cross Entropy or Log Loss"
   ]
  },
  {
   "cell_type": "code",
   "execution_count": 46,
   "id": "faebe86c-f913-4a8c-8507-3afab91ba65b",
   "metadata": {},
   "outputs": [],
   "source": [
    "def log_loss(y_true, y_predicted):\n",
    "    epsilon = 1e-15\n",
    "    y_predicted_new = [max(i, epsilon) for i in y_predicted]\n",
    "    y_predicted_new = [min(i, 1-epsilon) for i in y_predicted_new]\n",
    "    y_predicted_new = np.array(y_predicted_new)\n",
    "    return - np.mean(y_true * np.log(y_predicted_new) + (1 - y_true) * np.log(1 - y_predicted_new))"
   ]
  },
  {
   "cell_type": "code",
   "execution_count": null,
   "id": "017a8b7d-4bba-422d-ab6c-af728505c298",
   "metadata": {},
   "outputs": [],
   "source": []
  },
  {
   "cell_type": "code",
   "execution_count": null,
   "id": "4207c402-7d63-4a7e-b17f-2c482c825b64",
   "metadata": {},
   "outputs": [],
   "source": []
  },
  {
   "cell_type": "markdown",
   "id": "69f92140-aa77-4e56-94fa-abdba4cd9f66",
   "metadata": {},
   "source": [
    "## Builing Model"
   ]
  },
  {
   "cell_type": "code",
   "execution_count": 59,
   "id": "4f56b1d6-8898-4152-bf99-14dd3b39182d",
   "metadata": {},
   "outputs": [],
   "source": [
    "class myNeuralNetwork:\n",
    "    def __init__(self):\n",
    "        self.w1 = 1\n",
    "        self.w2 = 1\n",
    "        self.bias = 0\n",
    "\n",
    "    def gradient_descent(self, age, affordibility, y_true, epochs):\n",
    "        w1 = 1\n",
    "        w2 = 1\n",
    "        bias = 0\n",
    "        learning_rate = 0.5\n",
    "        n = len(age)\n",
    "\n",
    "        for i in range(epochs):\n",
    "            z = w1*age + w2*affordibility + bias\n",
    "            y_predicted = sigmoid(z)\n",
    "            loss = log_loss(y_true, y_predicted)\n",
    "    \n",
    "            w1_d = (1/n)*np.dot(np.transpose(age), (y_predicted - y_true))\n",
    "            w2_d = (1/n)*np.dot(np.transpose(affordibility), (y_predicted - y_true))\n",
    "            bias_d = np.mean(y_predicted - y_true)\n",
    "    \n",
    "            w1 = w1 - learning_rate*w1_d\n",
    "            w2 = w2 - learning_rate*w2_d\n",
    "            bias = bias - learning_rate*bias_d\n",
    "\n",
    "            if i%100 == 0:\n",
    "                print(f'Epoch:{i}, w1:{w1}, w2:{w2}, bias:{bias}, loss:{loss}')\n",
    "\n",
    "\n",
    "        return w1, w2, bias\n",
    "\n",
    "    def fit(self, X_train, y_train, epochs):\n",
    "        self.w1, self.w2, self.bias = self.gradient_descent(X_train['age'], X_train['affordibility'], y_train, epochs)\n",
    "        print(f'final weights and bias are: w1:{self.w1}, w2:{self.w2}, bias:{self.bias}')\n",
    "\n",
    "    def predict(self, X_test):\n",
    "        z = self.w1*X_test['age'] + self.w2*X_test['affordibility'] + self.bias\n",
    "        return sigmoid(z)\n",
    "        "
   ]
  },
  {
   "cell_type": "code",
   "execution_count": 60,
   "id": "38d5ce08-561f-41d7-9675-8a499e0d95a7",
   "metadata": {},
   "outputs": [],
   "source": [
    "model = myNeuralNetwork()"
   ]
  },
  {
   "cell_type": "code",
   "execution_count": 61,
   "id": "f73dd504-0bbf-498b-9612-e94f1734dbf8",
   "metadata": {},
   "outputs": [
    {
     "name": "stdout",
     "output_type": "stream",
     "text": [
      "Epoch:0, w1:0.974907633470177, w2:0.948348125394529, bias:-0.11341867736368583, loss:0.7113403233723417\n",
      "Epoch:100, w1:2.200713131760032, w2:1.2941584023238903, bias:-1.6607009122062801, loss:0.5390680417774752\n",
      "Epoch:200, w1:3.443016970881804, w2:1.404221862446503, bias:-2.2571369883752723, loss:0.5005011269691375\n",
      "Epoch:300, w1:4.4721795220959155, w2:1.438787986553552, bias:-2.7073878119223735, loss:0.47508146406327934\n",
      "Epoch:400, w1:5.3225621674147305, w2:1.4664810071905663, bias:-3.0787595797907787, loss:0.4577474350773423\n",
      "Epoch:500, w1:6.031314968844422, w2:1.4954938706406726, bias:-3.39313314590453, loss:0.4456454060995865\n",
      "Epoch:600, w1:6.62812981441833, w2:1.5252634355026606, bias:-3.662340616030081, loss:0.43701399395304763\n",
      "Epoch:700, w1:7.135549285979656, w2:1.5545746584644058, bias:-3.8946764656896806, loss:0.4307405928835923\n",
      "Epoch:800, w1:7.570652134140106, w2:1.582620935100352, bias:-4.096476695372909, loss:0.42610547872487836\n",
      "Epoch:900, w1:7.946515760566514, w2:1.6089757022142486, bias:-4.272725767814955, loss:0.4226317759984031\n",
      "final weights and bias are: w1:8.270239516056172, w2:1.6332228396255535, bias:-4.425953608965705\n"
     ]
    }
   ],
   "source": [
    "model.fit(X_train_scaled, y_train, epochs=1000)"
   ]
  },
  {
   "cell_type": "code",
   "execution_count": 62,
   "id": "35b5dc18-0663-4fb3-8d21-77f8e2419577",
   "metadata": {},
   "outputs": [
    {
     "data": {
      "text/plain": [
       "2     1\n",
       "10    0\n",
       "21    0\n",
       "11    0\n",
       "14    1\n",
       "9     1\n",
       "Name: bought_insurance, dtype: int64"
      ]
     },
     "execution_count": 62,
     "metadata": {},
     "output_type": "execute_result"
    }
   ],
   "source": [
    "y_test"
   ]
  },
  {
   "cell_type": "markdown",
   "id": "bbdddd31-1abc-4436-b370-bf8c73bfc4fc",
   "metadata": {},
   "source": [
    "## Prediction"
   ]
  },
  {
   "cell_type": "code",
   "execution_count": 63,
   "id": "3b6db129-c96b-49bc-ae00-556c45013dec",
   "metadata": {},
   "outputs": [
    {
     "data": {
      "text/plain": [
       "2     0.749187\n",
       "10    0.213478\n",
       "21    0.093156\n",
       "11    0.382946\n",
       "14    0.778972\n",
       "9     0.904833\n",
       "dtype: float64"
      ]
     },
     "execution_count": 63,
     "metadata": {},
     "output_type": "execute_result"
    }
   ],
   "source": [
    "model.predict(X_test_scaled)"
   ]
  },
  {
   "cell_type": "code",
   "execution_count": null,
   "id": "4d4237cc-f2b3-4eea-b838-36d77207c33f",
   "metadata": {},
   "outputs": [],
   "source": []
  }
 ],
 "metadata": {
  "kernelspec": {
   "display_name": "Python 3.10 (TensorFlow)",
   "language": "python",
   "name": "your_tensorflow_env"
  },
  "language_info": {
   "codemirror_mode": {
    "name": "ipython",
    "version": 3
   },
   "file_extension": ".py",
   "mimetype": "text/x-python",
   "name": "python",
   "nbconvert_exporter": "python",
   "pygments_lexer": "ipython3",
   "version": "3.10.16"
  }
 },
 "nbformat": 4,
 "nbformat_minor": 5
}
